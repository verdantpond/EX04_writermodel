{
 "cells": [
  {
   "cell_type": "markdown",
   "id": "separated-teaching",
   "metadata": {},
   "source": [
    "# Step 1. 데이터 다운로드"
   ]
  },
  {
   "cell_type": "markdown",
   "id": "smoking-inside",
   "metadata": {},
   "source": [
    "이미 실습(1) 데이터 다듬기에서 Cloud shell에 심볼릭 링크로 ~/aiffel/lyricist/data를 생성하셨다면, ~/aiffel/lyricist/data/lyrics에 데이터가 있습니다.   \n",
    "\n",
    "eminem.txt   \n",
    "*prince.txt*\n",
    "radiohead.txt"
   ]
  },
  {
   "cell_type": "markdown",
   "id": "equivalent-advertising",
   "metadata": {},
   "source": [
    "# Step 2. 데이터 읽어오기"
   ]
  },
  {
   "cell_type": "code",
   "execution_count": 1,
   "id": "animated-banana",
   "metadata": {},
   "outputs": [
    {
     "name": "stdout",
     "output_type": "stream",
     "text": [
      "데이터 크기: 187088\n",
      "Examples:\n",
      " [' There must be some kind of way outta here', 'Said the joker to the thief', \"There's too much confusion\"]\n"
     ]
    }
   ],
   "source": [
    "import glob\n",
    "import os\n",
    "\n",
    "# txt_file_path = os.getenv('HOME')+'/aiffel/lyricist/data/lyrics/*'\n",
    "txt_file_path = os.getenv('HOME') + '/aiffel/lyricist/data/lyrics/*'\n",
    "\n",
    "txt_list = glob.glob(txt_file_path)\n",
    "\n",
    "raw_corpus = []\n",
    "\n",
    "# 여러개의 txt 파일을 모두 읽어서 raw_corpus 에 담습니다.\n",
    "for txt_file in txt_list:\n",
    "    with open(txt_file, \"r\") as f:\n",
    "        raw = f.read().splitlines() # 개행문자(\\n)을 기준으로 분리\n",
    "        raw_corpus.extend(raw)   # 리스트에 같은 배열 요소로 추가. append 객체로 추가\n",
    "\n",
    "print(\"데이터 크기:\", len(raw_corpus))\n",
    "print(\"Examples:\\n\", raw_corpus[:3])"
   ]
  },
  {
   "cell_type": "markdown",
   "id": "apparent-turkish",
   "metadata": {},
   "source": [
    "# Step 3. 데이터 정제"
   ]
  },
  {
   "cell_type": "markdown",
   "id": "indonesian-skating",
   "metadata": {},
   "source": [
    "앞서 배운 테크닉들을 활용해 문장 생성에 적합한 모양새로 데이터를 정제하세요!\n",
    "\n",
    "preprocess_sentence() 함수를 만든 것을 기억하시죠? 이를 활용해 데이터를 정제하도록 하겠습니다.\n",
    "\n",
    "추가로 지나치게 긴 문장은 다른 데이터들이 과도한 Padding을 갖게 하므로 제거합니다. 너무 긴 문장은 노래 가사 작사하기에 어울리지 않을 수도 있겠죠.\n",
    "그래서 이번에는 문장을 토큰화 했을 때 토큰의 개수가 15개를 넘어가는 문장을 학습 데이터에서 제외하기 를 권합니다."
   ]
  },
  {
   "cell_type": "markdown",
   "id": "dramatic-advertiser",
   "metadata": {},
   "source": [
    "### 정규표현식을 이용한 corpus 생성"
   ]
  },
  {
   "cell_type": "code",
   "execution_count": 3,
   "id": "circular-equation",
   "metadata": {},
   "outputs": [
    {
     "name": "stdout",
     "output_type": "stream",
     "text": [
      "<start> this is sample sentence . <end>\n"
     ]
    }
   ],
   "source": [
    "import re\n",
    "\n",
    "def preprocess_sentence(sentence):\n",
    "    sentence = sentence.lower().strip() # 1\n",
    "    sentence = re.sub(r\"([?.!,¿])\", r\" \\1 \", sentence) # 2\n",
    "    sentence = re.sub(r'[\" \"]+', \" \", sentence) # 3\n",
    "    sentence = re.sub(r\"[^a-zA-Z?.!,¿]+\", \" \", sentence) # 4  알파뱃과 공백 중심으로 추출\n",
    "    sentence = sentence.strip() # 5\n",
    "    sentence = '<start> ' + sentence + ' <end>' # 6\n",
    "    return sentence\n",
    "\n",
    "\n",
    "print(preprocess_sentence(\"This @_is ;;;sample        sentence.\"))"
   ]
  },
  {
   "cell_type": "code",
   "execution_count": 31,
   "id": "separated-incident",
   "metadata": {},
   "outputs": [
    {
     "name": "stdout",
     "output_type": "stream",
     "text": [
      "155534\n"
     ]
    },
    {
     "data": {
      "text/plain": [
       "['<start> there must be some kind of way outta here <end>',\n",
       " '<start> said the joker to the thief <end>',\n",
       " '<start> there s too much confusion <end>',\n",
       " '<start> i can t get no relief business men , they drink my wine <end>',\n",
       " '<start> plowman dig my earth <end>',\n",
       " '<start> none were level on the mind <end>',\n",
       " '<start> nobody up at his word <end>',\n",
       " '<start> hey , hey no reason to get excited <end>',\n",
       " '<start> the thief he kindly spoke <end>',\n",
       " '<start> there are many here among us <end>']"
      ]
     },
     "execution_count": 31,
     "metadata": {},
     "output_type": "execute_result"
    }
   ],
   "source": [
    "# 여기에 정제된 문장을 모을겁니다\n",
    "corpus = []\n",
    "\n",
    "for sentence in raw_corpus:\n",
    "    # 우리가 원하지 않는 문장은 건너뜁니다\n",
    "    if len(sentence) == 0: continue       # 길이가 0인 문장 제외\n",
    "    if len(sentence) > 57 : continue     # 길이가 57개 초과한 문장 제외\n",
    "    #if sentence[-1] == \":\": continue      # # 문장의 끝이 : 인 문장 제외\n",
    "    \n",
    "    \n",
    "    # 정제를 하고 담아주세요\n",
    "    preprocessed_sentence = preprocess_sentence(sentence)\n",
    "    corpus.append(preprocessed_sentence)\n",
    "        \n",
    "print(len(corpus))\n",
    "# 정제된 결과를 10개만 확인해보죠\n",
    "corpus[:10]\n"
   ]
  },
  {
   "cell_type": "markdown",
   "id": "resident-violation",
   "metadata": {},
   "source": [
    "### tf.keras.preprocessing.text.Tokenizer를 이용해 corpus를 텐서로 변환"
   ]
  },
  {
   "cell_type": "code",
   "execution_count": 114,
   "id": "quality-value",
   "metadata": {},
   "outputs": [],
   "source": [
    "import tensorflow as tf\n",
    "\n",
    "def tokenize(corpus):\n",
    "    tokenizer = tf.keras.preprocessing.text.Tokenizer(\n",
    "        num_words=12000,       # 많이 사용된 단어 순으로 12,000개 단어를 관리한다.\n",
    "        filters=' ',           # 단어 구분자는 공백\n",
    "        oov_token=\"<unk>\"      # 단어장에 제외된 단어는 <ukn>으로 처리한다.\n",
    "    )\n",
    "    tokenizer.fit_on_texts(corpus)  # tokenizer 내부의 단어장 완성\n",
    "    tensor = tokenizer.texts_to_sequences(corpus)   # 준비한 문장들(corpus)을 정수화(tensor로 변환)\n",
    "    # padding 제거  , maxlen = 15, padding='post'\n",
    "    tensor = tf.keras.preprocessing.sequence.pad_sequences(tensor)  \n",
    "    return tensor, tokenizer                  # 반환값 : 토큰으로 구성된 문장(tensor), 단어장\n",
    "\n",
    "tensor, tokenizer = tokenize(corpus)    "
   ]
  },
  {
   "cell_type": "code",
   "execution_count": 115,
   "id": "diagnostic-hebrew",
   "metadata": {},
   "outputs": [],
   "source": [
    "#tokenizer.get_config()"
   ]
  },
  {
   "cell_type": "code",
   "execution_count": 116,
   "id": "previous-circus",
   "metadata": {
    "scrolled": true
   },
   "outputs": [
    {
     "data": {
      "text/plain": [
       "dict_keys(['num_words', 'filters', 'lower', 'split', 'char_level', 'oov_token', 'document_count', 'word_counts', 'word_docs', 'index_docs', 'index_word', 'word_index'])"
      ]
     },
     "execution_count": 116,
     "metadata": {},
     "output_type": "execute_result"
    }
   ],
   "source": [
    "tokenizer.get_config().keys()"
   ]
  },
  {
   "cell_type": "code",
   "execution_count": 117,
   "id": "interpreted-israel",
   "metadata": {},
   "outputs": [
    {
     "data": {
      "text/plain": [
       "12000"
      ]
     },
     "execution_count": 117,
     "metadata": {},
     "output_type": "execute_result"
    }
   ],
   "source": [
    "tokenizer.get_config()['num_words']"
   ]
  },
  {
   "cell_type": "code",
   "execution_count": 118,
   "id": "resistant-peace",
   "metadata": {},
   "outputs": [
    {
     "name": "stdout",
     "output_type": "stream",
     "text": [
      "1 : <unk>\n",
      "2 : <start>\n",
      "3 : <end>\n",
      "4 : ,\n",
      "5 : i\n",
      "6 : the\n",
      "7 : you\n",
      "8 : and\n",
      "9 : a\n",
      "10 : to\n",
      "11 : it\n",
      "12 : me\n",
      "13 : my\n",
      "14 : in\n",
      "15 : t\n"
     ]
    }
   ],
   "source": [
    "for idx in tokenizer.index_word:\n",
    "    print(idx, \":\", tokenizer.index_word[idx])\n",
    "\n",
    "    if idx >= 15: break"
   ]
  },
  {
   "cell_type": "code",
   "execution_count": 119,
   "id": "material-amount",
   "metadata": {},
   "outputs": [
    {
     "ename": "AttributeError",
     "evalue": "'list' object has no attribute 'shape'",
     "output_type": "error",
     "traceback": [
      "\u001b[0;31m---------------------------------------------------------------------------\u001b[0m",
      "\u001b[0;31mAttributeError\u001b[0m                            Traceback (most recent call last)",
      "\u001b[0;32m<ipython-input-119-c383550c2128>\u001b[0m in \u001b[0;36m<module>\u001b[0;34m\u001b[0m\n\u001b[0;32m----> 1\u001b[0;31m \u001b[0mtensor\u001b[0m\u001b[0;34m.\u001b[0m\u001b[0mshape\u001b[0m\u001b[0;34m\u001b[0m\u001b[0;34m\u001b[0m\u001b[0m\n\u001b[0m",
      "\u001b[0;31mAttributeError\u001b[0m: 'list' object has no attribute 'shape'"
     ]
    }
   ],
   "source": [
    "tensor.shape"
   ]
  },
  {
   "cell_type": "code",
   "execution_count": 101,
   "id": "placed-consideration",
   "metadata": {
    "scrolled": true
   },
   "outputs": [
    {
     "name": "stdout",
     "output_type": "stream",
     "text": [
      "[[   0    0    0    0    0    0    0    0    0    0    0    0    0    0\n",
      "     0    0    0    0    2   65  273   27   97  540   20   86  758   92\n",
      "     3]\n",
      " [   0    0    0    0    0    0    0    0    0    0    0    0    0    0\n",
      "     0    0    0    0    0    0    0    2  115    6 6097   10    6 2266\n",
      "     3]\n",
      " [   0    0    0    0    0    0    0    0    0    0    0    0    0    0\n",
      "     0    0    0    0    0    0    0    0    2   65   16   99  184 2736\n",
      "     3]\n",
      " [   0    0    0    0    0    0    0    0    0    0    0    0    0    0\n",
      "     2    5   32   15   42   37 5597  795  665    4   45  483   13  948\n",
      "     3]\n",
      " [   0    0    0    0    0    0    0    0    0    0    0    0    0    0\n",
      "     0    0    0    0    0    0    0    0    0    2    1 1027   13  651\n",
      "     3]\n",
      " [   0    0    0    0    0    0    0    0    0    0    0    0    0    0\n",
      "     0    0    0    0    0    0    0    2  938  178 1864   18    6  171\n",
      "     3]\n",
      " [   0    0    0    0    0    0    0    0    0    0    0    0    0    0\n",
      "     0    0    0    0    0    0    0    0    2  248   28   70  102  464\n",
      "     3]\n",
      " [   0    0    0    0    0    0    0    0    0    0    0    0    0    0\n",
      "     0    0    0    0    0    2  138    4  138   37  593   10   42 2504\n",
      "     3]\n",
      " [   0    0    0    0    0    0    0    0    0    0    0    0    0    0\n",
      "     0    0    0    0    0    0    0    0    2    6 2266   54 4365 1714\n",
      "     3]\n",
      " [   0    0    0    0    0    0    0    0    0    0    0    0    0    0\n",
      "     0    0    0    0    0    0    0    2   65   75  308   92 2130  125\n",
      "     3]]\n"
     ]
    }
   ],
   "source": [
    "print(tensor[:10, :70])"
   ]
  },
  {
   "cell_type": "markdown",
   "id": "chronic-livestock",
   "metadata": {},
   "source": [
    "# Step 4. 평가 데이터셋 분리"
   ]
  },
  {
   "cell_type": "code",
   "execution_count": 102,
   "id": "understanding-connectivity",
   "metadata": {},
   "outputs": [],
   "source": [
    "##  tf.data.Dataset.from_tensor_slices() 메소드를 이용해 tf.data.Dataset객체를 생성할 것"
   ]
  },
  {
   "cell_type": "code",
   "execution_count": 103,
   "id": "native-hostel",
   "metadata": {
    "scrolled": true
   },
   "outputs": [
    {
     "name": "stdout",
     "output_type": "stream",
     "text": [
      "[   0    0    0    0    0    0    0    0    0    0    0    0    0    0\n",
      "    0    0    0    0    0    0    0    2  115    6 6097   10    6 2266]\n",
      "[   0    0    0    0    0    0    0    0    0    0    0    0    0    0\n",
      "    0    0    0    0    0    0    2  115    6 6097   10    6 2266    3]\n"
     ]
    }
   ],
   "source": [
    "# tensor에서 마지막 토큰을 잘라내서 소스 문장을 생성합니다\n",
    "# 마지막 토큰은 <end>가 아니라 <pad>일 가능성이 높습니다.\n",
    "src_input = tensor[:, :-1]  \n",
    "# tensor에서 <start>를 잘라내서 타겟 문장을 생성합니다.\n",
    "tgt_input = tensor[:, 1:]    \n",
    "\n",
    "print(src_input[1])\n",
    "print(tgt_input[1])"
   ]
  },
  {
   "cell_type": "code",
   "execution_count": 104,
   "id": "selected-lounge",
   "metadata": {},
   "outputs": [],
   "source": [
    "import numpy as np\n",
    "from sklearn.model_selection import train_test_split\n",
    "\n",
    "enc_train, enc_val, dec_train, dec_val = train_test_split(src_input, tgt_input, test_size=0.2)"
   ]
  },
  {
   "cell_type": "code",
   "execution_count": 105,
   "id": "internal-logan",
   "metadata": {},
   "outputs": [
    {
     "name": "stdout",
     "output_type": "stream",
     "text": [
      "Source Train: (124427, 28)\n",
      "Target Train: (124427, 28)\n"
     ]
    }
   ],
   "source": [
    "print(\"Source Train:\", enc_train.shape)\n",
    "print(\"Target Train:\", dec_train.shape)"
   ]
  },
  {
   "cell_type": "markdown",
   "id": "downtown-permission",
   "metadata": {},
   "source": [
    "### tf.data.Dataset.from_tensor_slices()를 이용해 corpus 텐서를 tf.data.Dataset객체로 변환"
   ]
  },
  {
   "cell_type": "code",
   "execution_count": 106,
   "id": "dimensional-bulletin",
   "metadata": {
    "scrolled": false
   },
   "outputs": [
    {
     "data": {
      "text/plain": [
       "<BatchDataset shapes: ((256, 28), (256, 28)), types: (tf.int32, tf.int32)>"
      ]
     },
     "execution_count": 106,
     "metadata": {},
     "output_type": "execute_result"
    }
   ],
   "source": [
    "BUFFER_SIZE = len(enc_train)          # 메모리 확보\n",
    "BATCH_SIZE = 256                      # 처리 작업 단위\n",
    "steps_per_epoch = len(enc_train) // BATCH_SIZE\n",
    "\n",
    "VOCAB_SIZE = tokenizer.num_words + 1   \n",
    "\n",
    "dataset = tf.data.Dataset.from_tensor_slices((enc_train, dec_train))  # 훈련데이터셋과 정답데이터셋\n",
    "dataset = dataset.shuffle(BUFFER_SIZE)\n",
    "dataset = dataset.batch(BATCH_SIZE, drop_remainder=True)\n",
    "\n",
    "dataset"
   ]
  },
  {
   "cell_type": "code",
   "execution_count": null,
   "id": "large-geography",
   "metadata": {
    "scrolled": true
   },
   "outputs": [],
   "source": []
  },
  {
   "cell_type": "markdown",
   "id": "terminal-citation",
   "metadata": {},
   "source": [
    "# Step 5. 인공지능 만들기"
   ]
  },
  {
   "cell_type": "markdown",
   "id": "respiratory-johnson",
   "metadata": {},
   "source": [
    "## [모델 구조]    "
   ]
  },
  {
   "cell_type": "code",
   "execution_count": 107,
   "id": "bridal-night",
   "metadata": {},
   "outputs": [],
   "source": [
    "class TextGenerator(tf.keras.Model):\n",
    "    def __init__(self, vocab_size, embedding_size, hidden_size):\n",
    "        super().__init__()\n",
    "        \n",
    "        self.embedding = tf.keras.layers.Embedding(vocab_size, embedding_size)\n",
    "        self.rnn_1 = tf.keras.layers.LSTM(hidden_size, return_sequences=True)\n",
    "        self.rnn_2 = tf.keras.layers.LSTM(hidden_size, return_sequences=True)\n",
    "        self.linear = tf.keras.layers.Dense(vocab_size)\n",
    "        \n",
    "    def call(self, x):\n",
    "        out = self.embedding(x)\n",
    "        out = self.rnn_1(out)\n",
    "        out = self.rnn_2(out)\n",
    "        out = self.linear(out)\n",
    "        \n",
    "        return out\n",
    "    \n",
    "embedding_size = 256\n",
    "hidden_size = 1024\n",
    "model = TextGenerator(tokenizer.num_words + 1, embedding_size , hidden_size)"
   ]
  },
  {
   "cell_type": "code",
   "execution_count": 108,
   "id": "military-isaac",
   "metadata": {
    "scrolled": true
   },
   "outputs": [
    {
     "data": {
      "text/plain": [
       "<tf.Tensor: shape=(256, 28, 12001), dtype=float32, numpy=\n",
       "array([[[ 1.7488893e-04, -7.7013810e-06,  1.6426403e-04, ...,\n",
       "         -1.6843907e-04,  2.0674460e-04, -3.3233879e-04],\n",
       "        [ 4.2286565e-04, -9.7215961e-06,  4.1585809e-04, ...,\n",
       "         -4.0515407e-04,  4.6770903e-04, -8.1579626e-04],\n",
       "        [ 6.9267082e-04, -6.6154216e-06,  7.0394872e-04, ...,\n",
       "         -6.5419293e-04,  7.0477213e-04, -1.3474638e-03],\n",
       "        ...,\n",
       "        [ 3.9513459e-04, -1.2925861e-03, -1.0969159e-04, ...,\n",
       "         -1.2111806e-03,  8.8797766e-04, -1.3191503e-03],\n",
       "        [ 4.5175228e-04, -1.0491305e-03, -2.2675387e-04, ...,\n",
       "         -1.5298753e-03,  1.1912220e-03, -1.0743141e-03],\n",
       "        [ 5.1230489e-04, -1.0036509e-03, -4.4045909e-04, ...,\n",
       "         -1.6475758e-03,  1.0870700e-03, -7.4401987e-04]],\n",
       "\n",
       "       [[ 1.7488893e-04, -7.7013810e-06,  1.6426403e-04, ...,\n",
       "         -1.6843907e-04,  2.0674460e-04, -3.3233879e-04],\n",
       "        [ 4.2286565e-04, -9.7215961e-06,  4.1585809e-04, ...,\n",
       "         -4.0515407e-04,  4.6770903e-04, -8.1579626e-04],\n",
       "        [ 6.9267082e-04, -6.6154216e-06,  7.0394872e-04, ...,\n",
       "         -6.5419293e-04,  7.0477213e-04, -1.3474638e-03],\n",
       "        ...,\n",
       "        [-3.1919699e-05, -2.2372960e-03,  1.9973351e-04, ...,\n",
       "         -1.0920577e-03, -1.9908817e-04, -9.5769519e-04],\n",
       "        [-3.6193471e-04, -2.2070373e-03,  1.7631019e-04, ...,\n",
       "         -9.5242437e-04, -2.2057739e-04, -4.8468303e-04],\n",
       "        [-7.0889795e-04, -2.2635015e-03,  2.4999585e-04, ...,\n",
       "         -6.9041445e-04, -6.8544746e-06, -8.5076237e-05]],\n",
       "\n",
       "       [[ 1.7488893e-04, -7.7013810e-06,  1.6426403e-04, ...,\n",
       "         -1.6843907e-04,  2.0674460e-04, -3.3233879e-04],\n",
       "        [ 4.2286565e-04, -9.7215961e-06,  4.1585809e-04, ...,\n",
       "         -4.0515407e-04,  4.6770903e-04, -8.1579626e-04],\n",
       "        [ 6.9267082e-04, -6.6154216e-06,  7.0394872e-04, ...,\n",
       "         -6.5419293e-04,  7.0477213e-04, -1.3474638e-03],\n",
       "        ...,\n",
       "        [ 2.3979757e-03, -1.8598981e-03,  1.3785284e-03, ...,\n",
       "         -1.4549925e-03, -6.4025051e-04, -3.7429377e-03],\n",
       "        [ 2.0356106e-03, -1.9204719e-03,  1.1433356e-03, ...,\n",
       "         -1.3030111e-03, -9.6908974e-04, -3.2370843e-03],\n",
       "        [ 1.8420957e-03, -2.0285042e-03,  8.0279884e-04, ...,\n",
       "         -1.3148123e-03, -1.0045350e-03, -2.4177805e-03]],\n",
       "\n",
       "       ...,\n",
       "\n",
       "       [[ 1.7488893e-04, -7.7013810e-06,  1.6426403e-04, ...,\n",
       "         -1.6843907e-04,  2.0674460e-04, -3.3233879e-04],\n",
       "        [ 4.2286565e-04, -9.7215961e-06,  4.1585809e-04, ...,\n",
       "         -4.0515407e-04,  4.6770903e-04, -8.1579626e-04],\n",
       "        [ 6.9267082e-04, -6.6154216e-06,  7.0394872e-04, ...,\n",
       "         -6.5419293e-04,  7.0477213e-04, -1.3474638e-03],\n",
       "        ...,\n",
       "        [ 1.5587249e-03, -1.3946142e-03,  5.7197642e-04, ...,\n",
       "         -5.4287293e-04, -7.6594949e-04, -1.7633408e-03],\n",
       "        [ 1.3441485e-03, -1.1420669e-03,  6.2456011e-04, ...,\n",
       "         -2.5555704e-04, -7.7481457e-04, -1.5880754e-03],\n",
       "        [ 1.0539460e-03, -1.2481575e-03,  5.3283159e-04, ...,\n",
       "          3.1558055e-05, -9.2189683e-04, -1.8074058e-03]],\n",
       "\n",
       "       [[ 1.7488893e-04, -7.7013810e-06,  1.6426403e-04, ...,\n",
       "         -1.6843907e-04,  2.0674460e-04, -3.3233879e-04],\n",
       "        [ 4.2286565e-04, -9.7215961e-06,  4.1585809e-04, ...,\n",
       "         -4.0515407e-04,  4.6770903e-04, -8.1579626e-04],\n",
       "        [ 6.9267082e-04, -6.6154216e-06,  7.0394872e-04, ...,\n",
       "         -6.5419293e-04,  7.0477213e-04, -1.3474638e-03],\n",
       "        ...,\n",
       "        [ 6.7481905e-04, -2.1945941e-03,  3.8676000e-05, ...,\n",
       "         -3.9483805e-04, -1.5143111e-03, -2.0676502e-03],\n",
       "        [ 3.4516974e-04, -2.1458473e-03, -1.6168204e-04, ...,\n",
       "         -3.4532894e-04, -1.2530921e-03, -1.5859180e-03],\n",
       "        [ 1.4110531e-04, -1.9765440e-03, -4.0891551e-04, ...,\n",
       "         -9.1513757e-05, -9.6133008e-04, -1.1398112e-03]],\n",
       "\n",
       "       [[ 1.7488893e-04, -7.7013810e-06,  1.6426403e-04, ...,\n",
       "         -1.6843907e-04,  2.0674460e-04, -3.3233879e-04],\n",
       "        [ 4.2286565e-04, -9.7215961e-06,  4.1585809e-04, ...,\n",
       "         -4.0515407e-04,  4.6770903e-04, -8.1579626e-04],\n",
       "        [ 6.9267082e-04, -6.6154216e-06,  7.0394872e-04, ...,\n",
       "         -6.5419293e-04,  7.0477213e-04, -1.3474638e-03],\n",
       "        ...,\n",
       "        [ 2.4233211e-03, -2.2993255e-03,  1.0881257e-03, ...,\n",
       "          5.2911517e-05, -2.8667759e-04, -2.2696650e-03],\n",
       "        [ 2.3347749e-03, -2.2570249e-03,  8.1352494e-04, ...,\n",
       "          4.5815995e-04, -3.3214217e-04, -1.9571818e-03],\n",
       "        [ 2.4742510e-03, -2.1903163e-03,  4.3654317e-04, ...,\n",
       "          7.6120015e-04, -3.7558223e-04, -1.4663761e-03]]], dtype=float32)>"
      ]
     },
     "execution_count": 108,
     "metadata": {},
     "output_type": "execute_result"
    }
   ],
   "source": [
    "# 데이터셋에서 데이터 한 배치만 불러오는 방법입니다.\n",
    "for enc_sample, dec_sample in dataset.take(1): break\n",
    "\n",
    "# 한 배치만 불러온 데이터를 모델에 넣어봅니다\n",
    "model(enc_sample)"
   ]
  },
  {
   "cell_type": "code",
   "execution_count": 109,
   "id": "republican-headset",
   "metadata": {
    "scrolled": false
   },
   "outputs": [
    {
     "name": "stdout",
     "output_type": "stream",
     "text": [
      "Model: \"text_generator_3\"\n",
      "_________________________________________________________________\n",
      "Layer (type)                 Output Shape              Param #   \n",
      "=================================================================\n",
      "embedding_3 (Embedding)      multiple                  3072256   \n",
      "_________________________________________________________________\n",
      "lstm_6 (LSTM)                multiple                  5246976   \n",
      "_________________________________________________________________\n",
      "lstm_7 (LSTM)                multiple                  8392704   \n",
      "_________________________________________________________________\n",
      "dense_3 (Dense)              multiple                  12301025  \n",
      "=================================================================\n",
      "Total params: 29,012,961\n",
      "Trainable params: 29,012,961\n",
      "Non-trainable params: 0\n",
      "_________________________________________________________________\n"
     ]
    }
   ],
   "source": [
    "model.summary()"
   ]
  },
  {
   "cell_type": "markdown",
   "id": "successful-secondary",
   "metadata": {},
   "source": [
    "### 학습실행"
   ]
  },
  {
   "cell_type": "code",
   "execution_count": 111,
   "id": "headed-double",
   "metadata": {
    "scrolled": false
   },
   "outputs": [
    {
     "name": "stdout",
     "output_type": "stream",
     "text": [
      "Epoch 1/5\n",
      "486/486 [==============================] - 289s 590ms/step - loss: 1.6151\n",
      "Epoch 2/5\n",
      "486/486 [==============================] - 288s 593ms/step - loss: 1.4921\n",
      "Epoch 3/5\n",
      "486/486 [==============================] - 289s 594ms/step - loss: 1.4420\n",
      "Epoch 4/5\n",
      "486/486 [==============================] - 289s 594ms/step - loss: 1.4047\n",
      "Epoch 5/5\n",
      "486/486 [==============================] - 288s 593ms/step - loss: 1.3749\n"
     ]
    },
    {
     "data": {
      "text/plain": [
       "<tensorflow.python.keras.callbacks.History at 0x7fabc9a2a090>"
      ]
     },
     "execution_count": 111,
     "metadata": {},
     "output_type": "execute_result"
    }
   ],
   "source": [
    "optimizer = tf.keras.optimizers.Adam()\n",
    "loss = tf.keras.losses.SparseCategoricalCrossentropy(\n",
    "    from_logits=True, reduction='none')\n",
    "\n",
    "model.compile(loss=loss, optimizer=optimizer)\n",
    "model.fit(dataset, epochs=5)"
   ]
  },
  {
   "cell_type": "markdown",
   "id": "front-cincinnati",
   "metadata": {},
   "source": [
    "### 모델 성과평가"
   ]
  },
  {
   "cell_type": "code",
   "execution_count": 112,
   "id": "material-transmission",
   "metadata": {},
   "outputs": [],
   "source": [
    "def generate_text(model, tokenizer, init_sentence=\"<start>\", max_len=20):\n",
    "    # 테스트를 위해서 입력받은 init_sentence도 텐서로 변환합니다\n",
    "    test_input = tokenizer.texts_to_sequences([init_sentence])\n",
    "    test_tensor = tf.convert_to_tensor(test_input, dtype=tf.int64)\n",
    "    end_token = tokenizer.word_index[\"<end>\"]\n",
    "\n",
    "    # 단어 하나씩 예측해 문장을 만듭니다\n",
    "    #    1. 입력받은 문장의 텐서를 입력합니다\n",
    "    #    2. 예측된 값 중 가장 높은 확률인 word index를 뽑아냅니다\n",
    "    #    3. 2에서 예측된 word index를 문장 뒤에 붙입니다\n",
    "    #    4. 모델이 <end>를 예측했거나, max_len에 도달했다면 문장 생성을 마칩니다\n",
    "    while True:\n",
    "        # 1\n",
    "        predict = model(test_tensor) \n",
    "        # 2\n",
    "        predict_word = tf.argmax(tf.nn.softmax(predict, axis=-1), axis=-1)[:, -1] \n",
    "        # 3 \n",
    "        test_tensor = tf.concat([test_tensor, tf.expand_dims(predict_word, axis=0)], axis=-1)\n",
    "        # 4\n",
    "        if predict_word.numpy()[0] == end_token: break\n",
    "        if test_tensor.shape[1] >= max_len: break\n",
    "\n",
    "    generated = \"\"\n",
    "    # tokenizer를 이용해 word index를 단어로 하나씩 변환합니다 \n",
    "    for word_index in test_tensor[0].numpy():\n",
    "        generated += tokenizer.index_word[word_index] + \" \"\n",
    "\n",
    "    return generated"
   ]
  },
  {
   "cell_type": "code",
   "execution_count": 113,
   "id": "consecutive-chair",
   "metadata": {},
   "outputs": [
    {
     "data": {
      "text/plain": [
       "'<start> loving whoaaa you <end> '"
      ]
     },
     "execution_count": 113,
     "metadata": {},
     "output_type": "execute_result"
    }
   ],
   "source": [
    "#generate_text(lyricist, tokenizer, init_sentence=\"<start> love\", max_len=20)\n",
    "generate_text(model, tokenizer, init_sentence=\"<start> loving\", max_len=20)"
   ]
  },
  {
   "cell_type": "markdown",
   "id": "ancient-yukon",
   "metadata": {},
   "source": [
    "끝."
   ]
  },
  {
   "cell_type": "markdown",
   "id": "usual-printer",
   "metadata": {},
   "source": [
    "1. 패딩조건 : padding = 'pre'\n",
    "    \n",
    "2. 학습실행 경과    \n",
    "첫 번째 에퍽   \n",
    "Epoch 1/5\n",
    "486/486 [==============================] - 288s 588ms/step - loss: 2.5711\n",
    "Epoch 2/5\n",
    "486/486 [==============================] - 287s 591ms/step - loss: 1.7524\n",
    "Epoch 3/5\n",
    "486/486 [==============================] - 288s 593ms/step - loss: 1.6767\n",
    "Epoch 4/5\n",
    "486/486 [==============================] - 289s 594ms/step - loss: 1.6454\n",
    "Epoch 5/5\n",
    "486/486 [==============================] - 289s 595ms/step - loss: 1.6025\n",
    "<tensorflow.python.keras.callbacks.History at 0x7fab3462c710>  \n",
    "\n",
    "두 번째 에퍽\n",
    "Epoch 1/5\n",
    "486/486 [==============================] - 289s 590ms/step - loss: 1.6151\n",
    "Epoch 2/5\n",
    "486/486 [==============================] - 288s 593ms/step - loss: 1.4921\n",
    "Epoch 3/5\n",
    "486/486 [==============================] - 289s 594ms/step - loss: 1.4420\n",
    "Epoch 4/5\n",
    "486/486 [==============================] - 289s 594ms/step - loss: 1.4047\n",
    "Epoch 5/5\n",
    "486/486 [==============================] - 288s 593ms/step - loss: 1.3749\n",
    "<tensorflow.python.keras.callbacks.History at 0x7fabc9a2a090>\n",
    "\n",
    "3. 문장 만들기  \n",
    "'<start> loving whoaaa you <end> '"
   ]
  },
  {
   "cell_type": "markdown",
   "id": "loose-mattress",
   "metadata": {},
   "source": [
    "1. 패딩조건 : padding = 'pre', maxlen=15\n",
    "    \n",
    "2. 학습실행 경과    \n",
    "Epoch 1/5\n",
    "486/486 [==============================] - 152s 307ms/step - loss: 4.2835\n",
    "Epoch 2/5\n",
    "486/486 [==============================] - 149s 307ms/step - loss: 3.2429\n",
    "Epoch 3/5\n",
    "486/486 [==============================] - 149s 306ms/step - loss: 3.1159\n",
    "Epoch 4/5\n",
    "486/486 [==============================] - 149s 307ms/step - loss: 3.0098\n",
    "Epoch 5/5\n",
    "486/486 [==============================] - 149s 306ms/step - loss: 2.9106\n",
    "<tensorflow.python.keras.callbacks.History at 0x7fabca5d7410>\n",
    "\n",
    "두 번째 에퍽   \n",
    "Epoch 1/5\n",
    "486/486 [==============================] - 150s 303ms/step - loss: 2.8587\n",
    "Epoch 2/5\n",
    "486/486 [==============================] - 149s 307ms/step - loss: 2.7239\n",
    "Epoch 3/5\n",
    "486/486 [==============================] - 149s 307ms/step - loss: 2.6272\n",
    "Epoch 4/5\n",
    "486/486 [==============================] - 149s 306ms/step - loss: 2.5213\n",
    "Epoch 5/5\n",
    "486/486 [==============================] - 149s 305ms/step - loss: 2.4236\n",
    "<tensorflow.python.keras.callbacks.History at 0x7fabcdccc910>\n",
    "\n",
    "세 번째 에퍽   \n",
    "Epoch 1/5\n",
    "486/486 [==============================] - 149s 302ms/step - loss: 2.3696\n",
    "Epoch 2/5\n",
    "486/486 [==============================] - 150s 308ms/step - loss: 2.2670\n",
    "Epoch 3/5\n",
    "486/486 [==============================] - 150s 308ms/step - loss: 2.1730\n",
    "Epoch 4/5\n",
    "486/486 [==============================] - 148s 304ms/step - loss: 2.0932\n",
    "Epoch 5/5\n",
    "486/486 [==============================] - 150s 307ms/step - loss: 2.0091\n",
    "<tensorflow.python.keras.callbacks.History at 0x7fabc01d3550>\n",
    "\n",
    "3. 문장만들기   \n",
    "'<start> loving you , i m a voodoo chile , i m a flirt <end> '"
   ]
  },
  {
   "cell_type": "markdown",
   "id": "motivated-thumbnail",
   "metadata": {},
   "source": [
    "1. 패딩 조건 : padding='post' , maxlen = 15(15 컬럼만 추출)    \n",
    "    \n",
    "2. 학습실행 경과    \n",
    "Epoch 1/5  \n",
    "486/486 [==============================] - 150s 302ms/step - loss: 4.0748  \n",
    "Epoch 2/5  \n",
    "486/486 [==============================] - 150s 307ms/step - loss: 3.0449  \n",
    "Epoch 3/5  \n",
    "486/486 [==============================] - 148s 305ms/step - loss: 2.8595  \n",
    "Epoch 4/5  \n",
    "486/486 [==============================] - 147s 303ms/step - loss: 2.7254  \n",
    "Epoch 5/5  \n",
    "486/486 [==============================] - 149s 306ms/step - loss: 2.6132  \n",
    "<tensorflow.python.keras.callbacks.History at 0x7fabce2a5e10>    \n",
    "    \n",
    "Epoch 1/5\n",
    "486/486 [==============================] - 150s 304ms/step - loss: 2.5584\n",
    "Epoch 2/5\n",
    "486/486 [==============================] - 149s 307ms/step - loss: 2.4237\n",
    "Epoch 3/5\n",
    "486/486 [==============================] - 149s 306ms/step - loss: 2.3060\n",
    "Epoch 4/5\n",
    "486/486 [==============================] - 149s 307ms/step - loss: 2.2037\n",
    "Epoch 5/5\n",
    "486/486 [==============================] - 149s 306ms/step - loss: 2.1013\n",
    "<tensorflow.python.keras.callbacks.History at 0x7fac4f433f10>   \n",
    "\n",
    "- 문장만들기 결과\n",
    "'<start> loving you , baby <end> '"
   ]
  },
  {
   "cell_type": "markdown",
   "id": "french-style",
   "metadata": {},
   "source": [
    "- 패딩 조건 : post    \n",
    "     \n",
    "- 학습경과\n",
    "첫번째 5에폭 결과    \n",
    "Epoch 1/5\n",
    "486/486 [==============================] - 292s 596ms/step - loss: 2.2993\n",
    "Epoch 2/5\n",
    "486/486 [==============================] - 291s 597ms/step - loss: 1.5372\n",
    "Epoch 3/5\n",
    "486/486 [==============================] - 290s 597ms/step - loss: 1.4425\n",
    "Epoch 4/5\n",
    "486/486 [==============================] - 290s 596ms/step - loss: 1.3783\n",
    "Epoch 5/5\n",
    "486/486 [==============================] - 289s 594ms/step - loss: 1.3165\n",
    "<tensorflow.python.keras.callbacks.History at 0x7fabd3866090>   \n",
    "    \n",
    "두 번째 5에폭 결과  \n",
    "Epoch 1/5\n",
    "486/486 [==============================] - 288s 587ms/step - loss: 1.2850\n",
    "Epoch 2/5\n",
    "486/486 [==============================] - 287s 590ms/step - loss: 1.2162\n",
    "Epoch 3/5\n",
    "486/486 [==============================] - 287s 590ms/step - loss: 1.1565\n",
    "Epoch 4/5\n",
    "486/486 [==============================] - 289s 593ms/step - loss: 1.0998\n",
    "Epoch 5/5\n",
    "486/486 [==============================] - 289s 593ms/step - loss: 1.0496\n",
    "<tensorflow.python.keras.callbacks.History at 0x7fabd30d11d0>   \n",
    "   \n",
    "- 문장만들기 결과     \n",
    "'<start> loving you , i m not afraid to do <end> '"
   ]
  },
  {
   "attachments": {
    "image-2.png": {
     "image/png": "[encoded data removed]"
    }
   },
   "cell_type": "markdown",
   "id": "missing-toner",
   "metadata": {},
   "source": [
    "![image-2.png](attachment:image-2.png)"
   ]
  },
  {
   "cell_type": "markdown",
   "id": "active-latvia",
   "metadata": {},
   "source": [
    "- 패딩을 문장 앞에 하는 것 보다 문장 뒤에 하는 것이 효과적이다.  \n",
    "- 토큰을 제한 하는 것보다 제한하지 않는 것이 학습시간이 절약되고 문장의 자연스러움도 제한한 것과 비슷한 수준으로 작문한다.   \n",
    "- 패딩을 하지않는 것을 시도하려 하였으나 토큰 객체 생성이 되지 않는다는 것을 확인함."
   ]
  },
  {
   "cell_type": "code",
   "execution_count": null,
   "id": "sublime-albuquerque",
   "metadata": {},
   "outputs": [],
   "source": []
  },
  {
   "cell_type": "code",
   "execution_count": null,
   "id": "micro-kingdom",
   "metadata": {},
   "outputs": [],
   "source": []
  },
  {
   "cell_type": "code",
   "execution_count": null,
   "id": "gross-reception",
   "metadata": {},
   "outputs": [],
   "source": []
  }
 ],
 "metadata": {
  "kernelspec": {
   "display_name": "Python 3",
   "language": "python",
   "name": "python3"
  },
  "language_info": {
   "codemirror_mode": {
    "name": "ipython",
    "version": 3
   },
   "file_extension": ".py",
   "mimetype": "text/x-python",
   "name": "python",
   "nbconvert_exporter": "python",
   "pygments_lexer": "ipython3",
   "version": "3.7.9"
  }
 },
 "nbformat": 4,
 "nbformat_minor": 5
}
